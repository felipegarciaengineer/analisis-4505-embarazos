{
  "nbformat": 4,
  "nbformat_minor": 0,
  "metadata": {
    "colab": {
      "name": "Análisis 4505 embarazos",
      "provenance": [],
      "collapsed_sections": [
        "nFGQcQ19gCQO"
      ],
      "toc_visible": true
    },
    "kernelspec": {
      "name": "python3",
      "display_name": "Python 3"
    }
  },
  "cells": [
    {
      "cell_type": "markdown",
      "metadata": {
        "id": "w9BrBX6lf_Ae",
        "colab_type": "text"
      },
      "source": [
        "#Analisis 4505 Embarazos - HTS"
      ]
    },
    {
      "cell_type": "markdown",
      "metadata": {
        "id": "nFGQcQ19gCQO",
        "colab_type": "text"
      },
      "source": [
        "## Inicio"
      ]
    },
    {
      "cell_type": "code",
      "metadata": {
        "id": "uCtDbolwgBgn",
        "colab_type": "code",
        "colab": {}
      },
      "source": [
        "#Importamos las librerias necesarias\n",
        "\n",
        "import numpy as np\n",
        "import pandas as pd\n",
        "import seaborn as sb\n",
        "import matplotlib.pyplot as plt\n",
        "%matplotlib inline\n",
        "plt.rcParams['figure.figsize'] = (16, 9)\n",
        "plt.style.use('ggplot')\n",
        "from sklearn import tree\n",
        "from sklearn.metrics import accuracy_score\n",
        "from sklearn.model_selection import KFold\n",
        "from sklearn.model_selection import cross_val_score\n",
        "from IPython.display import Image as PImage\n",
        "from subprocess import check_call\n",
        "from PIL import Image, ImageDraw, ImageFont"
      ],
      "execution_count": 0,
      "outputs": []
    },
    {
      "cell_type": "code",
      "metadata": {
        "id": "t1hpauNlgF5f",
        "colab_type": "code",
        "outputId": "939f5dd7-c77f-4d10-e39e-b2fdcbcc556c",
        "colab": {
          "base_uri": "https://localhost:8080/",
          "height": 128
        }
      },
      "source": [
        "from google.colab import drive\n",
        "drive.mount('/content/gdrive')"
      ],
      "execution_count": 0,
      "outputs": [
        {
          "output_type": "stream",
          "text": [
            "Go to this URL in a browser: https://accounts.google.com/o/oauth2/auth?client_id=947318989803-6bn6qk8qdgf4n4g3pfee6491hc0brc4i.apps.googleusercontent.com&redirect_uri=urn%3Aietf%3Awg%3Aoauth%3A2.0%3Aoob&scope=email%20https%3A%2F%2Fwww.googleapis.com%2Fauth%2Fdocs.test%20https%3A%2F%2Fwww.googleapis.com%2Fauth%2Fdrive%20https%3A%2F%2Fwww.googleapis.com%2Fauth%2Fdrive.photos.readonly%20https%3A%2F%2Fwww.googleapis.com%2Fauth%2Fpeopleapi.readonly&response_type=code\n",
            "\n",
            "Enter your authorization code:\n",
            "··········\n",
            "Mounted at /content/gdrive\n"
          ],
          "name": "stdout"
        }
      ]
    },
    {
      "cell_type": "code",
      "metadata": {
        "id": "tfF_S_44gHpG",
        "colab_type": "code",
        "colab": {}
      },
      "source": [
        "#leemos el documento de gestantes, utilizamos encoding latin1 ya que utf-8 nos genera error\n",
        "\n",
        "data = pd.read_csv(\"/content/gdrive/My Drive/Colab Notebooks/Datasets/cuarto trimeste 4505 2018 ok.csv\", sep=\"|\")"
      ],
      "execution_count": 0,
      "outputs": []
    },
    {
      "cell_type": "markdown",
      "metadata": {
        "id": "Jyv7NynOgeab",
        "colab_type": "text"
      },
      "source": [
        "##Conociendo nuestro Dataset"
      ]
    },
    {
      "cell_type": "code",
      "metadata": {
        "id": "p2Dylhzogfo0",
        "colab_type": "code",
        "outputId": "f2d37a2c-0707-4748-aa24-23a9b8678168",
        "colab": {
          "base_uri": "https://localhost:8080/",
          "height": 35
        }
      },
      "source": [
        "#Número de columnas y registros\n",
        "data.shape"
      ],
      "execution_count": 0,
      "outputs": [
        {
          "output_type": "execute_result",
          "data": {
            "text/plain": [
              "(599790, 15)"
            ]
          },
          "metadata": {
            "tags": []
          },
          "execution_count": 7
        }
      ]
    },
    {
      "cell_type": "code",
      "metadata": {
        "id": "RXb75KHUgh1N",
        "colab_type": "code",
        "outputId": "03523dc3-24b7-42f6-e8af-f20bb8eb2e69",
        "colab": {
          "base_uri": "https://localhost:8080/",
          "height": 218
        }
      },
      "source": [
        "#mostramos los elementos para ver si se cargo bien el documento \n",
        "#dataset completo original\n",
        "\n",
        "data.head()"
      ],
      "execution_count": 0,
      "outputs": [
        {
          "output_type": "execute_result",
          "data": {
            "text/html": [
              "<div>\n",
              "<style scoped>\n",
              "    .dataframe tbody tr th:only-of-type {\n",
              "        vertical-align: middle;\n",
              "    }\n",
              "\n",
              "    .dataframe tbody tr th {\n",
              "        vertical-align: top;\n",
              "    }\n",
              "\n",
              "    .dataframe thead th {\n",
              "        text-align: right;\n",
              "    }\n",
              "</style>\n",
              "<table border=\"1\" class=\"dataframe\">\n",
              "  <thead>\n",
              "    <tr style=\"text-align: right;\">\n",
              "      <th></th>\n",
              "      <th>fecha_nacimiento</th>\n",
              "      <th>sexo</th>\n",
              "      <th>etnia</th>\n",
              "      <th>ocupacion</th>\n",
              "      <th>nivel_educativo</th>\n",
              "      <th>gestacion</th>\n",
              "      <th>obesidad_desnutricion</th>\n",
              "      <th>victima_maltrato</th>\n",
              "      <th>victima_violencia_sexual</th>\n",
              "      <th>infecciones_trasmision_sexual</th>\n",
              "      <th>enfermedad_mental</th>\n",
              "      <th>peso_kg</th>\n",
              "      <th>talla_cm</th>\n",
              "      <th>planificacion_familiar_primera_vez</th>\n",
              "      <th>suministro_metodo_anticonceptivo</th>\n",
              "    </tr>\n",
              "  </thead>\n",
              "  <tbody>\n",
              "    <tr>\n",
              "      <th>0</th>\n",
              "      <td>1987-04-05</td>\n",
              "      <td>M</td>\n",
              "      <td>6</td>\n",
              "      <td>9999</td>\n",
              "      <td>13</td>\n",
              "      <td>0</td>\n",
              "      <td>3</td>\n",
              "      <td>0</td>\n",
              "      <td>2</td>\n",
              "      <td>2</td>\n",
              "      <td>7</td>\n",
              "      <td>57</td>\n",
              "      <td>158</td>\n",
              "      <td>1800-01-01</td>\n",
              "      <td>21</td>\n",
              "    </tr>\n",
              "    <tr>\n",
              "      <th>1</th>\n",
              "      <td>1986-10-21</td>\n",
              "      <td>F</td>\n",
              "      <td>6</td>\n",
              "      <td>9999</td>\n",
              "      <td>13</td>\n",
              "      <td>2</td>\n",
              "      <td>3</td>\n",
              "      <td>0</td>\n",
              "      <td>2</td>\n",
              "      <td>2</td>\n",
              "      <td>7</td>\n",
              "      <td>63</td>\n",
              "      <td>162</td>\n",
              "      <td>1800-01-01</td>\n",
              "      <td>21</td>\n",
              "    </tr>\n",
              "    <tr>\n",
              "      <th>2</th>\n",
              "      <td>1987-03-29</td>\n",
              "      <td>F</td>\n",
              "      <td>6</td>\n",
              "      <td>9999</td>\n",
              "      <td>13</td>\n",
              "      <td>2</td>\n",
              "      <td>3</td>\n",
              "      <td>0</td>\n",
              "      <td>2</td>\n",
              "      <td>2</td>\n",
              "      <td>7</td>\n",
              "      <td>65</td>\n",
              "      <td>164</td>\n",
              "      <td>1800-01-01</td>\n",
              "      <td>21</td>\n",
              "    </tr>\n",
              "    <tr>\n",
              "      <th>3</th>\n",
              "      <td>1986-04-04</td>\n",
              "      <td>F</td>\n",
              "      <td>6</td>\n",
              "      <td>9999</td>\n",
              "      <td>13</td>\n",
              "      <td>2</td>\n",
              "      <td>3</td>\n",
              "      <td>0</td>\n",
              "      <td>2</td>\n",
              "      <td>2</td>\n",
              "      <td>7</td>\n",
              "      <td>62</td>\n",
              "      <td>158</td>\n",
              "      <td>1800-01-01</td>\n",
              "      <td>21</td>\n",
              "    </tr>\n",
              "    <tr>\n",
              "      <th>4</th>\n",
              "      <td>1987-02-11</td>\n",
              "      <td>M</td>\n",
              "      <td>6</td>\n",
              "      <td>9999</td>\n",
              "      <td>13</td>\n",
              "      <td>0</td>\n",
              "      <td>3</td>\n",
              "      <td>0</td>\n",
              "      <td>2</td>\n",
              "      <td>2</td>\n",
              "      <td>7</td>\n",
              "      <td>61</td>\n",
              "      <td>162</td>\n",
              "      <td>1800-01-01</td>\n",
              "      <td>21</td>\n",
              "    </tr>\n",
              "  </tbody>\n",
              "</table>\n",
              "</div>"
            ],
            "text/plain": [
              "  fecha_nacimiento  ... suministro_metodo_anticonceptivo\n",
              "0       1987-04-05  ...                               21\n",
              "1       1986-10-21  ...                               21\n",
              "2       1987-03-29  ...                               21\n",
              "3       1986-04-04  ...                               21\n",
              "4       1987-02-11  ...                               21\n",
              "\n",
              "[5 rows x 15 columns]"
            ]
          },
          "metadata": {
            "tags": []
          },
          "execution_count": 8
        }
      ]
    },
    {
      "cell_type": "code",
      "metadata": {
        "id": "HiCqKdisgj52",
        "colab_type": "code",
        "outputId": "22119901-cd19-4a71-aacb-5708e4a9033a",
        "colab": {
          "base_uri": "https://localhost:8080/",
          "height": 308
        }
      },
      "source": [
        "# Vamos a hacer un resumen de los estadísticos básicos de las variables numéricas.\n",
        "  \n",
        "data.describe()"
      ],
      "execution_count": 0,
      "outputs": [
        {
          "output_type": "execute_result",
          "data": {
            "text/html": [
              "<div>\n",
              "<style scoped>\n",
              "    .dataframe tbody tr th:only-of-type {\n",
              "        vertical-align: middle;\n",
              "    }\n",
              "\n",
              "    .dataframe tbody tr th {\n",
              "        vertical-align: top;\n",
              "    }\n",
              "\n",
              "    .dataframe thead th {\n",
              "        text-align: right;\n",
              "    }\n",
              "</style>\n",
              "<table border=\"1\" class=\"dataframe\">\n",
              "  <thead>\n",
              "    <tr style=\"text-align: right;\">\n",
              "      <th></th>\n",
              "      <th>etnia</th>\n",
              "      <th>ocupacion</th>\n",
              "      <th>nivel_educativo</th>\n",
              "      <th>gestacion</th>\n",
              "      <th>obesidad_desnutricion</th>\n",
              "      <th>victima_maltrato</th>\n",
              "      <th>victima_violencia_sexual</th>\n",
              "      <th>infecciones_trasmision_sexual</th>\n",
              "      <th>enfermedad_mental</th>\n",
              "      <th>peso_kg</th>\n",
              "      <th>talla_cm</th>\n",
              "      <th>suministro_metodo_anticonceptivo</th>\n",
              "    </tr>\n",
              "  </thead>\n",
              "  <tbody>\n",
              "    <tr>\n",
              "      <th>count</th>\n",
              "      <td>599790.000000</td>\n",
              "      <td>599790.000000</td>\n",
              "      <td>599790.000000</td>\n",
              "      <td>599790.000000</td>\n",
              "      <td>599790.000000</td>\n",
              "      <td>599790.000000</td>\n",
              "      <td>599790.000000</td>\n",
              "      <td>599790.000000</td>\n",
              "      <td>599790.000000</td>\n",
              "      <td>599790.000000</td>\n",
              "      <td>599790.000000</td>\n",
              "      <td>599790.000000</td>\n",
              "    </tr>\n",
              "    <tr>\n",
              "      <th>mean</th>\n",
              "      <td>5.884896</td>\n",
              "      <td>9974.324250</td>\n",
              "      <td>8.899777</td>\n",
              "      <td>4.175445</td>\n",
              "      <td>12.950033</td>\n",
              "      <td>10.608836</td>\n",
              "      <td>12.253074</td>\n",
              "      <td>11.525709</td>\n",
              "      <td>15.579089</td>\n",
              "      <td>427.364056</td>\n",
              "      <td>483.887307</td>\n",
              "      <td>11.785565</td>\n",
              "    </tr>\n",
              "    <tr>\n",
              "      <th>std</th>\n",
              "      <td>0.696558</td>\n",
              "      <td>345.322055</td>\n",
              "      <td>5.246269</td>\n",
              "      <td>7.870871</td>\n",
              "      <td>9.027162</td>\n",
              "      <td>9.411216</td>\n",
              "      <td>9.470449</td>\n",
              "      <td>9.501321</td>\n",
              "      <td>6.838396</td>\n",
              "      <td>467.956104</td>\n",
              "      <td>422.323168</td>\n",
              "      <td>10.068487</td>\n",
              "    </tr>\n",
              "    <tr>\n",
              "      <th>min</th>\n",
              "      <td>1.000000</td>\n",
              "      <td>6.000000</td>\n",
              "      <td>1.000000</td>\n",
              "      <td>0.000000</td>\n",
              "      <td>1.000000</td>\n",
              "      <td>0.000000</td>\n",
              "      <td>1.000000</td>\n",
              "      <td>1.000000</td>\n",
              "      <td>1.000000</td>\n",
              "      <td>1.000000</td>\n",
              "      <td>6.000000</td>\n",
              "      <td>0.000000</td>\n",
              "    </tr>\n",
              "    <tr>\n",
              "      <th>25%</th>\n",
              "      <td>6.000000</td>\n",
              "      <td>9998.000000</td>\n",
              "      <td>3.000000</td>\n",
              "      <td>0.000000</td>\n",
              "      <td>3.000000</td>\n",
              "      <td>3.000000</td>\n",
              "      <td>2.000000</td>\n",
              "      <td>2.000000</td>\n",
              "      <td>7.000000</td>\n",
              "      <td>41.000000</td>\n",
              "      <td>145.000000</td>\n",
              "      <td>0.000000</td>\n",
              "    </tr>\n",
              "    <tr>\n",
              "      <th>50%</th>\n",
              "      <td>6.000000</td>\n",
              "      <td>9999.000000</td>\n",
              "      <td>13.000000</td>\n",
              "      <td>0.000000</td>\n",
              "      <td>21.000000</td>\n",
              "      <td>3.000000</td>\n",
              "      <td>21.000000</td>\n",
              "      <td>21.000000</td>\n",
              "      <td>21.000000</td>\n",
              "      <td>68.000000</td>\n",
              "      <td>165.000000</td>\n",
              "      <td>21.000000</td>\n",
              "    </tr>\n",
              "    <tr>\n",
              "      <th>75%</th>\n",
              "      <td>6.000000</td>\n",
              "      <td>9999.000000</td>\n",
              "      <td>13.000000</td>\n",
              "      <td>2.000000</td>\n",
              "      <td>21.000000</td>\n",
              "      <td>21.000000</td>\n",
              "      <td>21.000000</td>\n",
              "      <td>21.000000</td>\n",
              "      <td>21.000000</td>\n",
              "      <td>999.000000</td>\n",
              "      <td>999.000000</td>\n",
              "      <td>21.000000</td>\n",
              "    </tr>\n",
              "    <tr>\n",
              "      <th>max</th>\n",
              "      <td>6.000000</td>\n",
              "      <td>9999.000000</td>\n",
              "      <td>13.000000</td>\n",
              "      <td>21.000000</td>\n",
              "      <td>21.000000</td>\n",
              "      <td>21.000000</td>\n",
              "      <td>21.000000</td>\n",
              "      <td>21.000000</td>\n",
              "      <td>21.000000</td>\n",
              "      <td>999.000000</td>\n",
              "      <td>999.000000</td>\n",
              "      <td>21.000000</td>\n",
              "    </tr>\n",
              "  </tbody>\n",
              "</table>\n",
              "</div>"
            ],
            "text/plain": [
              "               etnia  ...  suministro_metodo_anticonceptivo\n",
              "count  599790.000000  ...                     599790.000000\n",
              "mean        5.884896  ...                         11.785565\n",
              "std         0.696558  ...                         10.068487\n",
              "min         1.000000  ...                          0.000000\n",
              "25%         6.000000  ...                          0.000000\n",
              "50%         6.000000  ...                         21.000000\n",
              "75%         6.000000  ...                         21.000000\n",
              "max         6.000000  ...                         21.000000\n",
              "\n",
              "[8 rows x 12 columns]"
            ]
          },
          "metadata": {
            "tags": []
          },
          "execution_count": 9
        }
      ]
    },
    {
      "cell_type": "code",
      "metadata": {
        "id": "sXzRYCT8gmae",
        "colab_type": "code",
        "outputId": "eeccb2b3-fdf2-4a58-a1bf-7c0850bcd425",
        "colab": {
          "base_uri": "https://localhost:8080/",
          "height": 308
        }
      },
      "source": [
        "# Vamos a conocer el tipo de datos el cual es cada columna de la tabla\n",
        "\n",
        "data.dtypes"
      ],
      "execution_count": 0,
      "outputs": [
        {
          "output_type": "execute_result",
          "data": {
            "text/plain": [
              "fecha_nacimiento                      object\n",
              "sexo                                  object\n",
              "etnia                                  int64\n",
              "ocupacion                              int64\n",
              "nivel_educativo                        int64\n",
              "gestacion                              int64\n",
              "obesidad_desnutricion                  int64\n",
              "victima_maltrato                       int64\n",
              "victima_violencia_sexual               int64\n",
              "infecciones_trasmision_sexual          int64\n",
              "enfermedad_mental                      int64\n",
              "peso_kg                                int64\n",
              "talla_cm                               int64\n",
              "planificacion_familiar_primera_vez    object\n",
              "suministro_metodo_anticonceptivo       int64\n",
              "dtype: object"
            ]
          },
          "metadata": {
            "tags": []
          },
          "execution_count": 10
        }
      ]
    },
    {
      "cell_type": "markdown",
      "metadata": {
        "id": "QdX6-xgSg6Q-",
        "colab_type": "text"
      },
      "source": [
        "##Mapeo de Datos"
      ]
    },
    {
      "cell_type": "code",
      "metadata": {
        "id": "LWSMidJHgvpn",
        "colab_type": "code",
        "colab": {}
      },
      "source": [
        "#Calcularemos la edad en base a la fecha de nacimiento\n",
        "\n",
        "#Funcion para calcular la edad en base a 2018\n",
        "def calcula_edad(cuando,anio):\n",
        "    momento = cuando[:4]\n",
        "    return anio - int(momento)\n",
        "\n",
        "data['edad']=data.apply(lambda x: calcula_edad(x['fecha_nacimiento'],2018), axis=1);"
      ],
      "execution_count": 0,
      "outputs": []
    },
    {
      "cell_type": "code",
      "metadata": {
        "id": "oNY4TBBXhyp0",
        "colab_type": "code",
        "outputId": "5860d77c-8807-4478-b977-afc3cc88bcb7",
        "colab": {
          "base_uri": "https://localhost:8080/",
          "height": 181
        }
      },
      "source": [
        "data['edad'].describe()"
      ],
      "execution_count": 0,
      "outputs": [
        {
          "output_type": "execute_result",
          "data": {
            "text/plain": [
              "count    599790.000000\n",
              "mean         24.624930\n",
              "std          21.075068\n",
              "min           0.000000\n",
              "25%           9.000000\n",
              "50%          17.000000\n",
              "75%          35.000000\n",
              "max         113.000000\n",
              "Name: edad, dtype: float64"
            ]
          },
          "metadata": {
            "tags": []
          },
          "execution_count": 12
        }
      ]
    },
    {
      "cell_type": "code",
      "metadata": {
        "id": "_B-vqnFxh9Ga",
        "colab_type": "code",
        "colab": {}
      },
      "source": [
        "#Mapeo de sexo\n",
        "data.loc[data['sexo'] == 'M', 'sexoEncoded'] = 0 #hombre\n",
        "data.loc[data['sexo'] == 'F', 'sexoEncoded'] = 1 #mujer\n",
        "\n",
        "# Mapping edad en la que estan embarazadas\n",
        "data.loc[ data['edad'] <= 17, 'edadEncoded']                        = int(0)\n",
        "data.loc[(data['edad'] > 17) & (data['edad'] <= 26), 'edadEncoded'] = int(1)\n",
        "data.loc[(data['edad'] > 26) & (data['edad'] <= 30), 'edadEncoded'] = int(2)\n",
        "data.loc[(data['edad'] > 30) & (data['edad'] <= 40), 'edadEncoded'] = int(3)\n",
        "data.loc[ data['edad'] > 40, 'edadEncoded'] = int(4)\n",
        "\n",
        "#Mapeo de gestacion\n",
        "data.loc[data['gestacion'] == 0, 'gestacionEncoded'] = int(0) #no\n",
        "data.loc[data['gestacion'] == 1, 'gestacionEncoded'] = int(1) #si\n",
        "data.loc[data['gestacion'] == 2, 'gestacionEncoded'] = int(0) #no\n",
        "data.loc[data['gestacion'] == 21, 'gestacionEncoded'] = int(0) #no\n",
        "\n",
        "#Mapeo de etnia\n",
        "data.loc[ data['etnia'] <= 5, 'etniaEncoded']                        = int(1) #si pertenece a etnia\n",
        "data.loc[(data['etnia'] > 5) & (data['etnia'] <= 6), 'etniaEncoded'] = int(0) #no pertenece a etnia\n",
        "\n",
        "# Mapping codigo nivel educativo\n",
        "data.loc[ data['nivel_educativo'] <= 2, 'educativoEncoded']                        = int(0) #prescolar y primaria\n",
        "data.loc[(data['nivel_educativo'] > 2) & (data['nivel_educativo'] <= 6), 'educativoEncoded'] = int(1) #basica secundaria, media academica, media tecnica, normalista\n",
        "data.loc[(data['nivel_educativo'] > 6) & (data['nivel_educativo'] <= 8), 'educativoEncoded'] = int(2) #tecnico profesional y tecnologo\n",
        "data.loc[(data['nivel_educativo'] > 8) & (data['nivel_educativo'] <= 12), 'educativoEncoded'] = int(3) #profesional, especializacion, maestria y doctorado\n",
        "data.loc[ data['nivel_educativo'] > 12, 'educativoEncoded'] = int(4) #ninguno\n",
        "\n",
        "# Mapping obesidad\n",
        "data.loc[data['obesidad_desnutricion'] == 3, 'obesidadEncoded'] = int(0) #no\n",
        "data.loc[data['obesidad_desnutricion'] == 1, 'obesidadEncoded'] = int(1) #si obesidad\n",
        "data.loc[data['obesidad_desnutricion'] == 2, 'obesidadEncoded'] = int(1) #si desnutricion\n",
        "data.loc[data['obesidad_desnutricion'] == 21, 'obesidadEncoded'] = int(0) #no\n",
        "\n",
        "# Mapping victima de maltrato\n",
        "data.loc[data['victima_maltrato'] == 0, 'maltratoEncoded'] = int(0) #no\n",
        "data.loc[data['victima_maltrato'] == 1, 'maltratoEncoded'] = int(1) #si es mujer victima de maltrato\n",
        "data.loc[data['victima_maltrato'] == 2, 'maltratoEncoded'] = int(1) #si es menor victima de maltrato\n",
        "data.loc[data['victima_maltrato'] == 3, 'maltratoEncoded'] = int(0) #no\n",
        "data.loc[data['victima_maltrato'] == 21, 'maltratoEncoded'] = int(0) #no\n",
        "\n",
        "# Mapping victima de violencia sexual\n",
        "data.loc[data['victima_violencia_sexual'] == 2, 'violenciaSexualEncoded'] = int(0) #no\n",
        "data.loc[data['victima_violencia_sexual'] == 1, 'violenciaSexualEncoded'] = int(1) #si\n",
        "data.loc[data['victima_violencia_sexual'] == 21, 'violenciaSexualEncoded'] = int(0) #no riesgo no evaulado\n",
        "\n",
        "#Mapping infecciones_trasmision_sexual\n",
        "data.loc[data['infecciones_trasmision_sexual '] == 2, 'infeccionSexualEncoded'] = int(0) #no\n",
        "data.loc[data['infecciones_trasmision_sexual '] == 1, 'infeccionSexualEncoded'] = int(1) #si\n",
        "data.loc[data['infecciones_trasmision_sexual '] == 21, 'infeccionSexualEncoded'] = int(0) #no riesgo no evaulado\n",
        "\n",
        "#Mapping enfermedad_mental\n",
        "data.loc[ data['enfermedad_mental '] <= 6, 'enfermedadMentalEncoded']                        = int(1) # si enfermedad mental\n",
        "data.loc[(data['enfermedad_mental '] > 6) & (data['enfermedad_mental '] <= 21), 'enfermedadMentalEncoded'] = int(0) #no"
      ],
      "execution_count": 0,
      "outputs": []
    },
    {
      "cell_type": "code",
      "metadata": {
        "id": "qJpCldLzqcqV",
        "colab_type": "code",
        "outputId": "618ffd57-eab2-45f6-d9ec-bba50e93d2e8",
        "colab": {
          "base_uri": "https://localhost:8080/",
          "height": 218
        }
      },
      "source": [
        "data.head()"
      ],
      "execution_count": 0,
      "outputs": [
        {
          "output_type": "execute_result",
          "data": {
            "text/html": [
              "<div>\n",
              "<style scoped>\n",
              "    .dataframe tbody tr th:only-of-type {\n",
              "        vertical-align: middle;\n",
              "    }\n",
              "\n",
              "    .dataframe tbody tr th {\n",
              "        vertical-align: top;\n",
              "    }\n",
              "\n",
              "    .dataframe thead th {\n",
              "        text-align: right;\n",
              "    }\n",
              "</style>\n",
              "<table border=\"1\" class=\"dataframe\">\n",
              "  <thead>\n",
              "    <tr style=\"text-align: right;\">\n",
              "      <th></th>\n",
              "      <th>fecha_nacimiento</th>\n",
              "      <th>sexo</th>\n",
              "      <th>etnia</th>\n",
              "      <th>ocupacion</th>\n",
              "      <th>nivel_educativo</th>\n",
              "      <th>gestacion</th>\n",
              "      <th>obesidad_desnutricion</th>\n",
              "      <th>victima_maltrato</th>\n",
              "      <th>victima_violencia_sexual</th>\n",
              "      <th>infecciones_trasmision_sexual</th>\n",
              "      <th>enfermedad_mental</th>\n",
              "      <th>peso_kg</th>\n",
              "      <th>talla_cm</th>\n",
              "      <th>planificacion_familiar_primera_vez</th>\n",
              "      <th>suministro_metodo_anticonceptivo</th>\n",
              "      <th>edad</th>\n",
              "      <th>sexoEncoded</th>\n",
              "      <th>edadEncoded</th>\n",
              "      <th>gestacionEncoded</th>\n",
              "      <th>etniaEncoded</th>\n",
              "      <th>educativoEncoded</th>\n",
              "      <th>obesidadEncoded</th>\n",
              "      <th>maltratoEncoded</th>\n",
              "      <th>violenciaSexualEncoded</th>\n",
              "      <th>infeccionSexualEncoded</th>\n",
              "      <th>enfermedadMentalEncoded</th>\n",
              "    </tr>\n",
              "  </thead>\n",
              "  <tbody>\n",
              "    <tr>\n",
              "      <th>0</th>\n",
              "      <td>1987-04-05</td>\n",
              "      <td>M</td>\n",
              "      <td>6</td>\n",
              "      <td>9999</td>\n",
              "      <td>13</td>\n",
              "      <td>0</td>\n",
              "      <td>3</td>\n",
              "      <td>0</td>\n",
              "      <td>2</td>\n",
              "      <td>2</td>\n",
              "      <td>7</td>\n",
              "      <td>57</td>\n",
              "      <td>158</td>\n",
              "      <td>1800-01-01</td>\n",
              "      <td>21</td>\n",
              "      <td>31</td>\n",
              "      <td>0.0</td>\n",
              "      <td>3.0</td>\n",
              "      <td>0.0</td>\n",
              "      <td>0.0</td>\n",
              "      <td>4.0</td>\n",
              "      <td>0.0</td>\n",
              "      <td>0.0</td>\n",
              "      <td>0.0</td>\n",
              "      <td>0.0</td>\n",
              "      <td>0.0</td>\n",
              "    </tr>\n",
              "    <tr>\n",
              "      <th>1</th>\n",
              "      <td>1986-10-21</td>\n",
              "      <td>F</td>\n",
              "      <td>6</td>\n",
              "      <td>9999</td>\n",
              "      <td>13</td>\n",
              "      <td>2</td>\n",
              "      <td>3</td>\n",
              "      <td>0</td>\n",
              "      <td>2</td>\n",
              "      <td>2</td>\n",
              "      <td>7</td>\n",
              "      <td>63</td>\n",
              "      <td>162</td>\n",
              "      <td>1800-01-01</td>\n",
              "      <td>21</td>\n",
              "      <td>32</td>\n",
              "      <td>1.0</td>\n",
              "      <td>3.0</td>\n",
              "      <td>0.0</td>\n",
              "      <td>0.0</td>\n",
              "      <td>4.0</td>\n",
              "      <td>0.0</td>\n",
              "      <td>0.0</td>\n",
              "      <td>0.0</td>\n",
              "      <td>0.0</td>\n",
              "      <td>0.0</td>\n",
              "    </tr>\n",
              "    <tr>\n",
              "      <th>2</th>\n",
              "      <td>1987-03-29</td>\n",
              "      <td>F</td>\n",
              "      <td>6</td>\n",
              "      <td>9999</td>\n",
              "      <td>13</td>\n",
              "      <td>2</td>\n",
              "      <td>3</td>\n",
              "      <td>0</td>\n",
              "      <td>2</td>\n",
              "      <td>2</td>\n",
              "      <td>7</td>\n",
              "      <td>65</td>\n",
              "      <td>164</td>\n",
              "      <td>1800-01-01</td>\n",
              "      <td>21</td>\n",
              "      <td>31</td>\n",
              "      <td>1.0</td>\n",
              "      <td>3.0</td>\n",
              "      <td>0.0</td>\n",
              "      <td>0.0</td>\n",
              "      <td>4.0</td>\n",
              "      <td>0.0</td>\n",
              "      <td>0.0</td>\n",
              "      <td>0.0</td>\n",
              "      <td>0.0</td>\n",
              "      <td>0.0</td>\n",
              "    </tr>\n",
              "    <tr>\n",
              "      <th>3</th>\n",
              "      <td>1986-04-04</td>\n",
              "      <td>F</td>\n",
              "      <td>6</td>\n",
              "      <td>9999</td>\n",
              "      <td>13</td>\n",
              "      <td>2</td>\n",
              "      <td>3</td>\n",
              "      <td>0</td>\n",
              "      <td>2</td>\n",
              "      <td>2</td>\n",
              "      <td>7</td>\n",
              "      <td>62</td>\n",
              "      <td>158</td>\n",
              "      <td>1800-01-01</td>\n",
              "      <td>21</td>\n",
              "      <td>32</td>\n",
              "      <td>1.0</td>\n",
              "      <td>3.0</td>\n",
              "      <td>0.0</td>\n",
              "      <td>0.0</td>\n",
              "      <td>4.0</td>\n",
              "      <td>0.0</td>\n",
              "      <td>0.0</td>\n",
              "      <td>0.0</td>\n",
              "      <td>0.0</td>\n",
              "      <td>0.0</td>\n",
              "    </tr>\n",
              "    <tr>\n",
              "      <th>4</th>\n",
              "      <td>1987-02-11</td>\n",
              "      <td>M</td>\n",
              "      <td>6</td>\n",
              "      <td>9999</td>\n",
              "      <td>13</td>\n",
              "      <td>0</td>\n",
              "      <td>3</td>\n",
              "      <td>0</td>\n",
              "      <td>2</td>\n",
              "      <td>2</td>\n",
              "      <td>7</td>\n",
              "      <td>61</td>\n",
              "      <td>162</td>\n",
              "      <td>1800-01-01</td>\n",
              "      <td>21</td>\n",
              "      <td>31</td>\n",
              "      <td>0.0</td>\n",
              "      <td>3.0</td>\n",
              "      <td>0.0</td>\n",
              "      <td>0.0</td>\n",
              "      <td>4.0</td>\n",
              "      <td>0.0</td>\n",
              "      <td>0.0</td>\n",
              "      <td>0.0</td>\n",
              "      <td>0.0</td>\n",
              "      <td>0.0</td>\n",
              "    </tr>\n",
              "  </tbody>\n",
              "</table>\n",
              "</div>"
            ],
            "text/plain": [
              "  fecha_nacimiento sexo  ...  infeccionSexualEncoded  enfermedadMentalEncoded\n",
              "0       1987-04-05    M  ...                     0.0                      0.0\n",
              "1       1986-10-21    F  ...                     0.0                      0.0\n",
              "2       1987-03-29    F  ...                     0.0                      0.0\n",
              "3       1986-04-04    F  ...                     0.0                      0.0\n",
              "4       1987-02-11    M  ...                     0.0                      0.0\n",
              "\n",
              "[5 rows x 26 columns]"
            ]
          },
          "metadata": {
            "tags": []
          },
          "execution_count": 14
        }
      ]
    },
    {
      "cell_type": "markdown",
      "metadata": {
        "id": "Mazl1mdRq5cQ",
        "colab_type": "text"
      },
      "source": [
        "##Subcojunto de datos a utilizar para analisis de arbol de decisión"
      ]
    },
    {
      "cell_type": "code",
      "metadata": {
        "id": "rAg0RY4erD3w",
        "colab_type": "code",
        "outputId": "fbf42829-ab20-465a-fa32-d101bc4673e0",
        "colab": {
          "base_uri": "https://localhost:8080/",
          "height": 218
        }
      },
      "source": [
        "#Creamos un subconjunto con los datos necesarios originales del dataset principal\n",
        "#Eliminamos columnas que no se tendran en cuenta para el analisis\n",
        "\n",
        "subset = data[['sexoEncoded', 'edadEncoded', 'gestacionEncoded', 'etniaEncoded', 'educativoEncoded', 'obesidadEncoded', 'maltratoEncoded', 'violenciaSexualEncoded', 'infeccionSexualEncoded', \n",
        "               'enfermedadMentalEncoded', 'suministro_metodo_anticonceptivo', 'peso_kg', 'talla_cm']]\n",
        "subset.head()"
      ],
      "execution_count": 0,
      "outputs": [
        {
          "output_type": "execute_result",
          "data": {
            "text/html": [
              "<div>\n",
              "<style scoped>\n",
              "    .dataframe tbody tr th:only-of-type {\n",
              "        vertical-align: middle;\n",
              "    }\n",
              "\n",
              "    .dataframe tbody tr th {\n",
              "        vertical-align: top;\n",
              "    }\n",
              "\n",
              "    .dataframe thead th {\n",
              "        text-align: right;\n",
              "    }\n",
              "</style>\n",
              "<table border=\"1\" class=\"dataframe\">\n",
              "  <thead>\n",
              "    <tr style=\"text-align: right;\">\n",
              "      <th></th>\n",
              "      <th>sexoEncoded</th>\n",
              "      <th>edadEncoded</th>\n",
              "      <th>gestacionEncoded</th>\n",
              "      <th>etniaEncoded</th>\n",
              "      <th>educativoEncoded</th>\n",
              "      <th>obesidadEncoded</th>\n",
              "      <th>maltratoEncoded</th>\n",
              "      <th>violenciaSexualEncoded</th>\n",
              "      <th>infeccionSexualEncoded</th>\n",
              "      <th>enfermedadMentalEncoded</th>\n",
              "      <th>suministro_metodo_anticonceptivo</th>\n",
              "      <th>peso_kg</th>\n",
              "      <th>talla_cm</th>\n",
              "    </tr>\n",
              "  </thead>\n",
              "  <tbody>\n",
              "    <tr>\n",
              "      <th>0</th>\n",
              "      <td>0.0</td>\n",
              "      <td>3.0</td>\n",
              "      <td>0.0</td>\n",
              "      <td>0.0</td>\n",
              "      <td>4.0</td>\n",
              "      <td>0.0</td>\n",
              "      <td>0.0</td>\n",
              "      <td>0.0</td>\n",
              "      <td>0.0</td>\n",
              "      <td>0.0</td>\n",
              "      <td>21</td>\n",
              "      <td>57</td>\n",
              "      <td>158</td>\n",
              "    </tr>\n",
              "    <tr>\n",
              "      <th>1</th>\n",
              "      <td>1.0</td>\n",
              "      <td>3.0</td>\n",
              "      <td>0.0</td>\n",
              "      <td>0.0</td>\n",
              "      <td>4.0</td>\n",
              "      <td>0.0</td>\n",
              "      <td>0.0</td>\n",
              "      <td>0.0</td>\n",
              "      <td>0.0</td>\n",
              "      <td>0.0</td>\n",
              "      <td>21</td>\n",
              "      <td>63</td>\n",
              "      <td>162</td>\n",
              "    </tr>\n",
              "    <tr>\n",
              "      <th>2</th>\n",
              "      <td>1.0</td>\n",
              "      <td>3.0</td>\n",
              "      <td>0.0</td>\n",
              "      <td>0.0</td>\n",
              "      <td>4.0</td>\n",
              "      <td>0.0</td>\n",
              "      <td>0.0</td>\n",
              "      <td>0.0</td>\n",
              "      <td>0.0</td>\n",
              "      <td>0.0</td>\n",
              "      <td>21</td>\n",
              "      <td>65</td>\n",
              "      <td>164</td>\n",
              "    </tr>\n",
              "    <tr>\n",
              "      <th>3</th>\n",
              "      <td>1.0</td>\n",
              "      <td>3.0</td>\n",
              "      <td>0.0</td>\n",
              "      <td>0.0</td>\n",
              "      <td>4.0</td>\n",
              "      <td>0.0</td>\n",
              "      <td>0.0</td>\n",
              "      <td>0.0</td>\n",
              "      <td>0.0</td>\n",
              "      <td>0.0</td>\n",
              "      <td>21</td>\n",
              "      <td>62</td>\n",
              "      <td>158</td>\n",
              "    </tr>\n",
              "    <tr>\n",
              "      <th>4</th>\n",
              "      <td>0.0</td>\n",
              "      <td>3.0</td>\n",
              "      <td>0.0</td>\n",
              "      <td>0.0</td>\n",
              "      <td>4.0</td>\n",
              "      <td>0.0</td>\n",
              "      <td>0.0</td>\n",
              "      <td>0.0</td>\n",
              "      <td>0.0</td>\n",
              "      <td>0.0</td>\n",
              "      <td>21</td>\n",
              "      <td>61</td>\n",
              "      <td>162</td>\n",
              "    </tr>\n",
              "  </tbody>\n",
              "</table>\n",
              "</div>"
            ],
            "text/plain": [
              "   sexoEncoded  edadEncoded  ...  peso_kg  talla_cm\n",
              "0          0.0          3.0  ...       57       158\n",
              "1          1.0          3.0  ...       63       162\n",
              "2          1.0          3.0  ...       65       164\n",
              "3          1.0          3.0  ...       62       158\n",
              "4          0.0          3.0  ...       61       162\n",
              "\n",
              "[5 rows x 13 columns]"
            ]
          },
          "metadata": {
            "tags": []
          },
          "execution_count": 15
        }
      ]
    },
    {
      "cell_type": "code",
      "metadata": {
        "id": "8_GMMy5ttAhE",
        "colab_type": "code",
        "outputId": "cd7456a4-593a-4db2-df34-7c5a0b196d95",
        "colab": {
          "base_uri": "https://localhost:8080/",
          "height": 272
        }
      },
      "source": [
        "# Vamos a conocer el tipo de datos el cual es cada columna de la tabla\n",
        "\n",
        "subset.dtypes"
      ],
      "execution_count": 0,
      "outputs": [
        {
          "output_type": "execute_result",
          "data": {
            "text/plain": [
              "sexoEncoded                         float64\n",
              "edadEncoded                         float64\n",
              "gestacionEncoded                    float64\n",
              "etniaEncoded                        float64\n",
              "educativoEncoded                    float64\n",
              "obesidadEncoded                     float64\n",
              "maltratoEncoded                     float64\n",
              "violenciaSexualEncoded              float64\n",
              "infeccionSexualEncoded              float64\n",
              "enfermedadMentalEncoded             float64\n",
              "suministro_metodo_anticonceptivo      int64\n",
              "peso_kg                               int64\n",
              "talla_cm                              int64\n",
              "dtype: object"
            ]
          },
          "metadata": {
            "tags": []
          },
          "execution_count": 16
        }
      ]
    },
    {
      "cell_type": "markdown",
      "metadata": {
        "id": "mpJdBvQbtYkk",
        "colab_type": "text"
      },
      "source": [
        "##Gráfica de correlación"
      ]
    },
    {
      "cell_type": "code",
      "metadata": {
        "id": "ID3zkAvXuAGV",
        "colab_type": "code",
        "outputId": "3db0de04-963f-4b5b-a24d-9206e3d66727",
        "colab": {
          "base_uri": "https://localhost:8080/",
          "height": 438
        }
      },
      "source": [
        "df = pd.DataFrame({'a': subset['sexoEncoded']})\n",
        "df['b'] = subset['edadEncoded']\n",
        "df['c'] = subset['gestacionEncoded']\n",
        "df['d'] = subset['etniaEncoded']\n",
        "df['e'] = subset['educativoEncoded']\n",
        "df['f'] = subset['obesidadEncoded']\n",
        "df['g'] = subset['maltratoEncoded']\n",
        "df['h'] = subset['violenciaSexualEncoded']\n",
        "df['i'] = subset['infeccionSexualEncoded']\n",
        "df['j'] = subset['enfermedadMentalEncoded']\n",
        "df['k'] = subset['suministro_metodo_anticonceptivo']\n",
        "df['l'] = subset['peso_kg']\n",
        "df['m'] = subset['talla_cm']\n",
        "\n",
        "df.corr()"
      ],
      "execution_count": 0,
      "outputs": [
        {
          "output_type": "execute_result",
          "data": {
            "text/html": [
              "<div>\n",
              "<style scoped>\n",
              "    .dataframe tbody tr th:only-of-type {\n",
              "        vertical-align: middle;\n",
              "    }\n",
              "\n",
              "    .dataframe tbody tr th {\n",
              "        vertical-align: top;\n",
              "    }\n",
              "\n",
              "    .dataframe thead th {\n",
              "        text-align: right;\n",
              "    }\n",
              "</style>\n",
              "<table border=\"1\" class=\"dataframe\">\n",
              "  <thead>\n",
              "    <tr style=\"text-align: right;\">\n",
              "      <th></th>\n",
              "      <th>a</th>\n",
              "      <th>b</th>\n",
              "      <th>c</th>\n",
              "      <th>d</th>\n",
              "      <th>e</th>\n",
              "      <th>f</th>\n",
              "      <th>g</th>\n",
              "      <th>h</th>\n",
              "      <th>i</th>\n",
              "      <th>j</th>\n",
              "      <th>k</th>\n",
              "      <th>l</th>\n",
              "      <th>m</th>\n",
              "    </tr>\n",
              "  </thead>\n",
              "  <tbody>\n",
              "    <tr>\n",
              "      <th>a</th>\n",
              "      <td>1.000000</td>\n",
              "      <td>0.112691</td>\n",
              "      <td>0.121551</td>\n",
              "      <td>-0.023350</td>\n",
              "      <td>-0.026674</td>\n",
              "      <td>0.011689</td>\n",
              "      <td>0.010481</td>\n",
              "      <td>0.009911</td>\n",
              "      <td>0.011210</td>\n",
              "      <td>-0.000797</td>\n",
              "      <td>0.056180</td>\n",
              "      <td>-0.035292</td>\n",
              "      <td>-0.034905</td>\n",
              "    </tr>\n",
              "    <tr>\n",
              "      <th>b</th>\n",
              "      <td>0.112691</td>\n",
              "      <td>1.000000</td>\n",
              "      <td>-0.005355</td>\n",
              "      <td>-0.009781</td>\n",
              "      <td>-0.005580</td>\n",
              "      <td>-0.039984</td>\n",
              "      <td>-0.001999</td>\n",
              "      <td>-0.004563</td>\n",
              "      <td>0.012799</td>\n",
              "      <td>0.030422</td>\n",
              "      <td>0.105844</td>\n",
              "      <td>0.086242</td>\n",
              "      <td>0.090271</td>\n",
              "    </tr>\n",
              "    <tr>\n",
              "      <th>c</th>\n",
              "      <td>0.121551</td>\n",
              "      <td>-0.005355</td>\n",
              "      <td>1.000000</td>\n",
              "      <td>0.005009</td>\n",
              "      <td>-0.022913</td>\n",
              "      <td>0.004606</td>\n",
              "      <td>0.005887</td>\n",
              "      <td>0.011114</td>\n",
              "      <td>0.044647</td>\n",
              "      <td>-0.004935</td>\n",
              "      <td>0.078831</td>\n",
              "      <td>-0.095574</td>\n",
              "      <td>-0.095435</td>\n",
              "    </tr>\n",
              "    <tr>\n",
              "      <th>d</th>\n",
              "      <td>-0.023350</td>\n",
              "      <td>-0.009781</td>\n",
              "      <td>0.005009</td>\n",
              "      <td>1.000000</td>\n",
              "      <td>-0.000369</td>\n",
              "      <td>-0.015181</td>\n",
              "      <td>-0.002370</td>\n",
              "      <td>-0.000841</td>\n",
              "      <td>-0.003748</td>\n",
              "      <td>0.000495</td>\n",
              "      <td>-0.052824</td>\n",
              "      <td>-0.069775</td>\n",
              "      <td>-0.070386</td>\n",
              "    </tr>\n",
              "    <tr>\n",
              "      <th>e</th>\n",
              "      <td>-0.026674</td>\n",
              "      <td>-0.005580</td>\n",
              "      <td>-0.022913</td>\n",
              "      <td>-0.000369</td>\n",
              "      <td>1.000000</td>\n",
              "      <td>-0.101673</td>\n",
              "      <td>-0.003708</td>\n",
              "      <td>-0.006641</td>\n",
              "      <td>-0.007230</td>\n",
              "      <td>-0.011124</td>\n",
              "      <td>-0.088430</td>\n",
              "      <td>0.086755</td>\n",
              "      <td>0.087782</td>\n",
              "    </tr>\n",
              "    <tr>\n",
              "      <th>f</th>\n",
              "      <td>0.011689</td>\n",
              "      <td>-0.039984</td>\n",
              "      <td>0.004606</td>\n",
              "      <td>-0.015181</td>\n",
              "      <td>-0.101673</td>\n",
              "      <td>1.000000</td>\n",
              "      <td>-0.000638</td>\n",
              "      <td>-0.000638</td>\n",
              "      <td>0.006639</td>\n",
              "      <td>0.013250</td>\n",
              "      <td>-0.108543</td>\n",
              "      <td>-0.200243</td>\n",
              "      <td>-0.204668</td>\n",
              "    </tr>\n",
              "    <tr>\n",
              "      <th>g</th>\n",
              "      <td>0.010481</td>\n",
              "      <td>-0.001999</td>\n",
              "      <td>0.005887</td>\n",
              "      <td>-0.002370</td>\n",
              "      <td>-0.003708</td>\n",
              "      <td>-0.000638</td>\n",
              "      <td>1.000000</td>\n",
              "      <td>0.402951</td>\n",
              "      <td>0.017652</td>\n",
              "      <td>0.022679</td>\n",
              "      <td>0.006069</td>\n",
              "      <td>-0.004162</td>\n",
              "      <td>-0.003690</td>\n",
              "    </tr>\n",
              "    <tr>\n",
              "      <th>h</th>\n",
              "      <td>0.009911</td>\n",
              "      <td>-0.004563</td>\n",
              "      <td>0.011114</td>\n",
              "      <td>-0.000841</td>\n",
              "      <td>-0.006641</td>\n",
              "      <td>-0.000638</td>\n",
              "      <td>0.402951</td>\n",
              "      <td>1.000000</td>\n",
              "      <td>0.012426</td>\n",
              "      <td>0.020989</td>\n",
              "      <td>0.002515</td>\n",
              "      <td>-0.008774</td>\n",
              "      <td>-0.008622</td>\n",
              "    </tr>\n",
              "    <tr>\n",
              "      <th>i</th>\n",
              "      <td>0.011210</td>\n",
              "      <td>0.012799</td>\n",
              "      <td>0.044647</td>\n",
              "      <td>-0.003748</td>\n",
              "      <td>-0.007230</td>\n",
              "      <td>0.006639</td>\n",
              "      <td>0.017652</td>\n",
              "      <td>0.012426</td>\n",
              "      <td>1.000000</td>\n",
              "      <td>0.017416</td>\n",
              "      <td>0.019382</td>\n",
              "      <td>-0.017141</td>\n",
              "      <td>-0.017155</td>\n",
              "    </tr>\n",
              "    <tr>\n",
              "      <th>j</th>\n",
              "      <td>-0.000797</td>\n",
              "      <td>0.030422</td>\n",
              "      <td>-0.004935</td>\n",
              "      <td>0.000495</td>\n",
              "      <td>-0.011124</td>\n",
              "      <td>0.013250</td>\n",
              "      <td>0.022679</td>\n",
              "      <td>0.020989</td>\n",
              "      <td>0.017416</td>\n",
              "      <td>1.000000</td>\n",
              "      <td>0.009030</td>\n",
              "      <td>-0.023232</td>\n",
              "      <td>-0.022594</td>\n",
              "    </tr>\n",
              "    <tr>\n",
              "      <th>k</th>\n",
              "      <td>0.056180</td>\n",
              "      <td>0.105844</td>\n",
              "      <td>0.078831</td>\n",
              "      <td>-0.052824</td>\n",
              "      <td>-0.088430</td>\n",
              "      <td>-0.108543</td>\n",
              "      <td>0.006069</td>\n",
              "      <td>0.002515</td>\n",
              "      <td>0.019382</td>\n",
              "      <td>0.009030</td>\n",
              "      <td>1.000000</td>\n",
              "      <td>0.206243</td>\n",
              "      <td>0.215862</td>\n",
              "    </tr>\n",
              "    <tr>\n",
              "      <th>l</th>\n",
              "      <td>-0.035292</td>\n",
              "      <td>0.086242</td>\n",
              "      <td>-0.095574</td>\n",
              "      <td>-0.069775</td>\n",
              "      <td>0.086755</td>\n",
              "      <td>-0.200243</td>\n",
              "      <td>-0.004162</td>\n",
              "      <td>-0.008774</td>\n",
              "      <td>-0.017141</td>\n",
              "      <td>-0.023232</td>\n",
              "      <td>0.206243</td>\n",
              "      <td>1.000000</td>\n",
              "      <td>0.991463</td>\n",
              "    </tr>\n",
              "    <tr>\n",
              "      <th>m</th>\n",
              "      <td>-0.034905</td>\n",
              "      <td>0.090271</td>\n",
              "      <td>-0.095435</td>\n",
              "      <td>-0.070386</td>\n",
              "      <td>0.087782</td>\n",
              "      <td>-0.204668</td>\n",
              "      <td>-0.003690</td>\n",
              "      <td>-0.008622</td>\n",
              "      <td>-0.017155</td>\n",
              "      <td>-0.022594</td>\n",
              "      <td>0.215862</td>\n",
              "      <td>0.991463</td>\n",
              "      <td>1.000000</td>\n",
              "    </tr>\n",
              "  </tbody>\n",
              "</table>\n",
              "</div>"
            ],
            "text/plain": [
              "          a         b         c  ...         k         l         m\n",
              "a  1.000000  0.112691  0.121551  ...  0.056180 -0.035292 -0.034905\n",
              "b  0.112691  1.000000 -0.005355  ...  0.105844  0.086242  0.090271\n",
              "c  0.121551 -0.005355  1.000000  ...  0.078831 -0.095574 -0.095435\n",
              "d -0.023350 -0.009781  0.005009  ... -0.052824 -0.069775 -0.070386\n",
              "e -0.026674 -0.005580 -0.022913  ... -0.088430  0.086755  0.087782\n",
              "f  0.011689 -0.039984  0.004606  ... -0.108543 -0.200243 -0.204668\n",
              "g  0.010481 -0.001999  0.005887  ...  0.006069 -0.004162 -0.003690\n",
              "h  0.009911 -0.004563  0.011114  ...  0.002515 -0.008774 -0.008622\n",
              "i  0.011210  0.012799  0.044647  ...  0.019382 -0.017141 -0.017155\n",
              "j -0.000797  0.030422 -0.004935  ...  0.009030 -0.023232 -0.022594\n",
              "k  0.056180  0.105844  0.078831  ...  1.000000  0.206243  0.215862\n",
              "l -0.035292  0.086242 -0.095574  ...  0.206243  1.000000  0.991463\n",
              "m -0.034905  0.090271 -0.095435  ...  0.215862  0.991463  1.000000\n",
              "\n",
              "[13 rows x 13 columns]"
            ]
          },
          "metadata": {
            "tags": []
          },
          "execution_count": 17
        }
      ]
    },
    {
      "cell_type": "code",
      "metadata": {
        "id": "xb05fiRYumei",
        "colab_type": "code",
        "outputId": "64f91317-2d95-4c63-9a22-4cd5107ee7d5",
        "colab": {
          "base_uri": "https://localhost:8080/",
          "height": 405
        }
      },
      "source": [
        "pd.plotting.scatter_matrix(df, figsize=(6, 6))\n",
        "plt.show()"
      ],
      "execution_count": 0,
      "outputs": [
        {
          "output_type": "display_data",
          "data": {
            "image/png": "[encoded data removed]",
            "text/plain": [
              "<Figure size 432x432 with 169 Axes>"
            ]
          },
          "metadata": {
            "tags": []
          }
        }
      ]
    },
    {
      "cell_type": "code",
      "metadata": {
        "id": "BV1v2_7d6l0l",
        "colab_type": "code",
        "outputId": "18c6bec9-8424-41db-fe23-c660e6c66bf8",
        "colab": {
          "base_uri": "https://localhost:8080/",
          "height": 541
        }
      },
      "source": [
        "plt.matshow(df.corr())\n",
        "plt.xticks(range(len(df.columns)), df.columns)\n",
        "plt.yticks(range(len(df.columns)), df.columns)\n",
        "plt.colorbar()\n",
        "plt.show()"
      ],
      "execution_count": 0,
      "outputs": [
        {
          "output_type": "display_data",
          "data": {
            "image/png": "[encoded data removed]",
            "text/plain": [
              "<Figure size 648x648 with 2 Axes>"
            ]
          },
          "metadata": {
            "tags": []
          }
        }
      ]
    },
    {
      "cell_type": "code",
      "metadata": {
        "id": "S7o8FI0Takb_",
        "colab_type": "code",
        "outputId": "65a23a96-c141-431e-b1c1-43d3fc91be88",
        "colab": {
          "base_uri": "https://localhost:8080/",
          "height": 272
        }
      },
      "source": [
        "cv = KFold(n_splits=10) # Numero deseado de \"folds\" que haremos\n",
        "accuracies = list()\n",
        "max_attributes = len(list(subset))\n",
        "depth_range = range(1, max_attributes + 1)\n",
        "\n",
        "# Testearemos la profundidad de 1 a cantidad de atributos +1\n",
        "for depth in depth_range:\n",
        "    fold_accuracy = []\n",
        "    tree_model = tree.DecisionTreeClassifier(criterion='entropy',\n",
        "                                             min_samples_split=20,\n",
        "                                             min_samples_leaf=5,\n",
        "                                             max_depth = depth,\n",
        "                                             class_weight={1:27.2})\n",
        "    for train_fold, valid_fold in cv.split(subset):\n",
        "        f_train = subset.loc[train_fold] \n",
        "        f_valid = subset.loc[valid_fold] \n",
        "\n",
        "        model = tree_model.fit(X = f_train.drop(['gestacionEncoded'], axis=1), \n",
        "                               y = f_train['gestacionEncoded']) \n",
        "        valid_acc = model.score(X = f_valid.drop(['gestacionEncoded'], axis=1), \n",
        "                                y = f_valid[\"gestacionEncoded\"]) # calculamos la precision con el segmento de validacion\n",
        "        fold_accuracy.append(valid_acc)\n",
        "\n",
        "    avg = sum(fold_accuracy)/len(fold_accuracy)\n",
        "    accuracies.append(avg)\n",
        "    \n",
        "# Mostramos los resultados obtenidos\n",
        "df = pd.DataFrame({\"Max Depth\": depth_range, \"Average Accuracy\": accuracies})\n",
        "df = df[[\"Max Depth\", \"Average Accuracy\"]]\n",
        "print(df.to_string(index=False))"
      ],
      "execution_count": 0,
      "outputs": [
        {
          "output_type": "stream",
          "text": [
            " Max Depth  Average Accuracy\n",
            "         1          0.642555\n",
            "         2          0.655503\n",
            "         3          0.774526\n",
            "         4          0.849451\n",
            "         5          0.850021\n",
            "         6          0.863647\n",
            "         7          0.908678\n",
            "         8          0.906381\n",
            "         9          0.906424\n",
            "        10          0.902384\n",
            "        11          0.902578\n",
            "        12          0.904128\n",
            "        13          0.904285\n"
          ],
          "name": "stdout"
        }
      ]
    },
    {
      "cell_type": "markdown",
      "metadata": {
        "id": "P2DK9xcGp0vU",
        "colab_type": "text"
      },
      "source": [
        "##Arbol de decisión"
      ]
    },
    {
      "cell_type": "code",
      "metadata": {
        "id": "obIoVtC7p-Cg",
        "colab_type": "code",
        "outputId": "5f407096-285c-4186-b2db-34f5096a4711",
        "colab": {
          "base_uri": "https://localhost:8080/",
          "height": 218
        }
      },
      "source": [
        "subset.head()"
      ],
      "execution_count": 0,
      "outputs": [
        {
          "output_type": "execute_result",
          "data": {
            "text/html": [
              "<div>\n",
              "<style scoped>\n",
              "    .dataframe tbody tr th:only-of-type {\n",
              "        vertical-align: middle;\n",
              "    }\n",
              "\n",
              "    .dataframe tbody tr th {\n",
              "        vertical-align: top;\n",
              "    }\n",
              "\n",
              "    .dataframe thead th {\n",
              "        text-align: right;\n",
              "    }\n",
              "</style>\n",
              "<table border=\"1\" class=\"dataframe\">\n",
              "  <thead>\n",
              "    <tr style=\"text-align: right;\">\n",
              "      <th></th>\n",
              "      <th>sexoEncoded</th>\n",
              "      <th>edadEncoded</th>\n",
              "      <th>gestacionEncoded</th>\n",
              "      <th>etniaEncoded</th>\n",
              "      <th>educativoEncoded</th>\n",
              "      <th>obesidadEncoded</th>\n",
              "      <th>maltratoEncoded</th>\n",
              "      <th>violenciaSexualEncoded</th>\n",
              "      <th>infeccionSexualEncoded</th>\n",
              "      <th>enfermedadMentalEncoded</th>\n",
              "      <th>suministro_metodo_anticonceptivo</th>\n",
              "      <th>peso_kg</th>\n",
              "      <th>talla_cm</th>\n",
              "    </tr>\n",
              "  </thead>\n",
              "  <tbody>\n",
              "    <tr>\n",
              "      <th>0</th>\n",
              "      <td>0.0</td>\n",
              "      <td>3.0</td>\n",
              "      <td>0.0</td>\n",
              "      <td>0.0</td>\n",
              "      <td>4.0</td>\n",
              "      <td>0.0</td>\n",
              "      <td>0.0</td>\n",
              "      <td>0.0</td>\n",
              "      <td>0.0</td>\n",
              "      <td>0.0</td>\n",
              "      <td>21</td>\n",
              "      <td>57</td>\n",
              "      <td>158</td>\n",
              "    </tr>\n",
              "    <tr>\n",
              "      <th>1</th>\n",
              "      <td>1.0</td>\n",
              "      <td>3.0</td>\n",
              "      <td>0.0</td>\n",
              "      <td>0.0</td>\n",
              "      <td>4.0</td>\n",
              "      <td>0.0</td>\n",
              "      <td>0.0</td>\n",
              "      <td>0.0</td>\n",
              "      <td>0.0</td>\n",
              "      <td>0.0</td>\n",
              "      <td>21</td>\n",
              "      <td>63</td>\n",
              "      <td>162</td>\n",
              "    </tr>\n",
              "    <tr>\n",
              "      <th>2</th>\n",
              "      <td>1.0</td>\n",
              "      <td>3.0</td>\n",
              "      <td>0.0</td>\n",
              "      <td>0.0</td>\n",
              "      <td>4.0</td>\n",
              "      <td>0.0</td>\n",
              "      <td>0.0</td>\n",
              "      <td>0.0</td>\n",
              "      <td>0.0</td>\n",
              "      <td>0.0</td>\n",
              "      <td>21</td>\n",
              "      <td>65</td>\n",
              "      <td>164</td>\n",
              "    </tr>\n",
              "    <tr>\n",
              "      <th>3</th>\n",
              "      <td>1.0</td>\n",
              "      <td>3.0</td>\n",
              "      <td>0.0</td>\n",
              "      <td>0.0</td>\n",
              "      <td>4.0</td>\n",
              "      <td>0.0</td>\n",
              "      <td>0.0</td>\n",
              "      <td>0.0</td>\n",
              "      <td>0.0</td>\n",
              "      <td>0.0</td>\n",
              "      <td>21</td>\n",
              "      <td>62</td>\n",
              "      <td>158</td>\n",
              "    </tr>\n",
              "    <tr>\n",
              "      <th>4</th>\n",
              "      <td>0.0</td>\n",
              "      <td>3.0</td>\n",
              "      <td>0.0</td>\n",
              "      <td>0.0</td>\n",
              "      <td>4.0</td>\n",
              "      <td>0.0</td>\n",
              "      <td>0.0</td>\n",
              "      <td>0.0</td>\n",
              "      <td>0.0</td>\n",
              "      <td>0.0</td>\n",
              "      <td>21</td>\n",
              "      <td>61</td>\n",
              "      <td>162</td>\n",
              "    </tr>\n",
              "  </tbody>\n",
              "</table>\n",
              "</div>"
            ],
            "text/plain": [
              "   sexoEncoded  edadEncoded  ...  peso_kg  talla_cm\n",
              "0          0.0          3.0  ...       57       158\n",
              "1          1.0          3.0  ...       63       162\n",
              "2          1.0          3.0  ...       65       164\n",
              "3          1.0          3.0  ...       62       158\n",
              "4          0.0          3.0  ...       61       162\n",
              "\n",
              "[5 rows x 13 columns]"
            ]
          },
          "metadata": {
            "tags": []
          },
          "execution_count": 21
        }
      ]
    },
    {
      "cell_type": "code",
      "metadata": {
        "id": "FDusOJzhvCFs",
        "colab_type": "code",
        "colab": {}
      },
      "source": [
        "import seaborn as sns"
      ],
      "execution_count": 0,
      "outputs": []
    },
    {
      "cell_type": "code",
      "metadata": {
        "id": "cbDIy_rRufR5",
        "colab_type": "code",
        "outputId": "a54bf2d5-ef24-4893-cf91-0b898a3aeb3e",
        "colab": {
          "base_uri": "https://localhost:8080/",
          "height": 828
        }
      },
      "source": [
        "colormap = plt.cm.viridis\n",
        "plt.figure(figsize=(12,12))\n",
        "plt.title('Pearson Correlation of Features', y=1.05, size=15)\n",
        "sns.heatmap(subset.astype(float).corr(),linewidths=0.1,vmax=1.0, square=True, cmap=colormap, linecolor='white', annot=True)"
      ],
      "execution_count": 0,
      "outputs": [
        {
          "output_type": "execute_result",
          "data": {
            "text/plain": [
              "<matplotlib.axes._subplots.AxesSubplot at 0x7f8d53ca5f60>"
            ]
          },
          "metadata": {
            "tags": []
          },
          "execution_count": 27
        },
        {
          "output_type": "display_data",
          "data": {
            "image/png": "[encoded data removed]",
            "text/plain": [
              "<Figure size 864x864 with 2 Axes>"
            ]
          },
          "metadata": {
            "tags": []
          }
        }
      ]
    },
    {
      "cell_type": "code",
      "metadata": {
        "id": "xdLhsHsSyoXI",
        "colab_type": "code",
        "outputId": "a3062b89-ce44-47ca-9c81-04000cd74b04",
        "colab": {
          "base_uri": "https://localhost:8080/",
          "height": 168
        }
      },
      "source": [
        "subset[['sexoEncoded', 'gestacionEncoded']].groupby(['sexoEncoded'], as_index=False).agg(['mean', 'count', 'sum'])"
      ],
      "execution_count": 0,
      "outputs": [
        {
          "output_type": "execute_result",
          "data": {
            "text/html": [
              "<div>\n",
              "<style scoped>\n",
              "    .dataframe tbody tr th:only-of-type {\n",
              "        vertical-align: middle;\n",
              "    }\n",
              "\n",
              "    .dataframe tbody tr th {\n",
              "        vertical-align: top;\n",
              "    }\n",
              "\n",
              "    .dataframe thead tr th {\n",
              "        text-align: left;\n",
              "    }\n",
              "\n",
              "    .dataframe thead tr:last-of-type th {\n",
              "        text-align: right;\n",
              "    }\n",
              "</style>\n",
              "<table border=\"1\" class=\"dataframe\">\n",
              "  <thead>\n",
              "    <tr>\n",
              "      <th></th>\n",
              "      <th colspan=\"3\" halign=\"left\">gestacionEncoded</th>\n",
              "    </tr>\n",
              "    <tr>\n",
              "      <th></th>\n",
              "      <th>mean</th>\n",
              "      <th>count</th>\n",
              "      <th>sum</th>\n",
              "    </tr>\n",
              "    <tr>\n",
              "      <th>sexoEncoded</th>\n",
              "      <th></th>\n",
              "      <th></th>\n",
              "      <th></th>\n",
              "    </tr>\n",
              "  </thead>\n",
              "  <tbody>\n",
              "    <tr>\n",
              "      <th>0.0</th>\n",
              "      <td>0.000000</td>\n",
              "      <td>245400</td>\n",
              "      <td>0.0</td>\n",
              "    </tr>\n",
              "    <tr>\n",
              "      <th>1.0</th>\n",
              "      <td>0.035357</td>\n",
              "      <td>354390</td>\n",
              "      <td>12530.0</td>\n",
              "    </tr>\n",
              "  </tbody>\n",
              "</table>\n",
              "</div>"
            ],
            "text/plain": [
              "            gestacionEncoded                 \n",
              "                        mean   count      sum\n",
              "sexoEncoded                                  \n",
              "0.0                 0.000000  245400      0.0\n",
              "1.0                 0.035357  354390  12530.0"
            ]
          },
          "metadata": {
            "tags": []
          },
          "execution_count": 28
        }
      ]
    },
    {
      "cell_type": "code",
      "metadata": {
        "id": "Q-vE_Oaux9HC",
        "colab_type": "code",
        "colab": {}
      },
      "source": [
        "# Define function to calculate Gini Impurity\n",
        "def get_gini_impurity(pregnant_count, total_count):\n",
        "    pregnant_prob = pregnant_count/total_count\n",
        "    not_pregnant_prob = (1 - pregnant_prob)\n",
        "    random_observation_pregnant_prob = pregnant_prob\n",
        "    random_observation_not_pregnant_prob = (1 - random_observation_pregnant_prob)\n",
        "    mislabelling_pregnant_prob = not_pregnant_prob * random_observation_pregnant_prob\n",
        "    mislabelling_not_pregnant_prob = pregnant_prob * random_observation_not_pregnant_prob\n",
        "    gini_impurity = mislabelling_pregnant_prob + mislabelling_not_pregnant_prob\n",
        "    return gini_impurity"
      ],
      "execution_count": 0,
      "outputs": []
    },
    {
      "cell_type": "code",
      "metadata": {
        "id": "YOM-MR_uzX4X",
        "colab_type": "code",
        "outputId": "0bcc1f34-94e2-4ac1-a4d2-05bf539673b3",
        "colab": {
          "base_uri": "https://localhost:8080/",
          "height": 35
        }
      },
      "source": [
        "# Gini Impurity of starting node\n",
        "gini_impurity_starting_node = get_gini_impurity(12530, 599790)\n",
        "gini_impurity_starting_node"
      ],
      "execution_count": 0,
      "outputs": [
        {
          "output_type": "execute_result",
          "data": {
            "text/plain": [
              "0.04090845201623711"
            ]
          },
          "metadata": {
            "tags": []
          },
          "execution_count": 25
        }
      ]
    }
  ]
}